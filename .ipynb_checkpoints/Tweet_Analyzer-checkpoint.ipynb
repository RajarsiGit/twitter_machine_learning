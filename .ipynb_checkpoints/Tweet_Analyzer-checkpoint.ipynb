{
 "cells": [
  {
   "cell_type": "code",
   "execution_count": 40,
   "metadata": {},
   "outputs": [],
   "source": [
    "import numpy as np\n",
    "import twitter, re, datetime, pandas as pd\n",
    "from TweetMiner import TweetMiner\n",
    "from sklearn.feature_extraction.text import TfidfVectorizer\n",
    "from collections import Counter"
   ]
  },
  {
   "cell_type": "code",
   "execution_count": 41,
   "metadata": {},
   "outputs": [],
   "source": [
    "#twitter keys and initializing twitter api\n",
    "twitter_keys = {\n",
    "    'consumer_key': 'hnjxcdFF4Bs3DiomJc8ayCq3J',\n",
    "    'consumer_secret': 'K9BxNO6j8PIQ97WGxoUShD3dC3Oue7IXEWkxeLcId279epEQEx',\n",
    "    'access_token_key': '1180916834-JqjE84dTaSXMZkzEaXS0PyeBfQdcJOAL3mVDjWl',\n",
    "    'access_token_secret': 'IdH9yFykUtYmzuuwYUHrTf7DoNbuMlI7cGn27nSU3RJ62'\n",
    "}\n",
    "\n",
    "api = twitter.Api(\n",
    "    consumer_key = twitter_keys['consumer_key'],\n",
    "    consumer_secret = twitter_keys['consumer_secret'],\n",
    "    access_token_key = twitter_keys['access_token_key'],\n",
    "    access_token_secret = twitter_keys['access_token_secret'],\n",
    "    tweet_mode = 'extended'\n",
    ")"
   ]
  },
  {
   "cell_type": "code",
   "execution_count": 19,
   "metadata": {},
   "outputs": [],
   "source": [
    "#using TeetMiner function from Mike Roman\n",
    "miner = TweetMiner(api, result_limit=200)"
   ]
  },
  {
   "cell_type": "code",
   "execution_count": 20,
   "metadata": {},
   "outputs": [],
   "source": [
    "hillary = miner.mine_user_tweets(user=\"HillaryClinton\", max_pages=14)\n",
    "donald = miner.mine_user_tweets(user=\"realDonaldTrump\", max_pages=14)"
   ]
  },
  {
   "cell_type": "code",
   "execution_count": 21,
   "metadata": {},
   "outputs": [],
   "source": [
    "trump_df = pd.DataFrame(donald)\n",
    "hillary_df = pd.DataFrame(hillary)"
   ]
  },
  {
   "cell_type": "code",
   "execution_count": 22,
   "metadata": {},
   "outputs": [],
   "source": [
    "tweets = pd.concat([trump_df, hillary_df], axis=0)"
   ]
  },
  {
   "cell_type": "code",
   "execution_count": 36,
   "metadata": {},
   "outputs": [],
   "source": [
    "vect = TfidfVectorizer(ngram_range=(2,5), stop_words='english')"
   ]
  },
  {
   "cell_type": "code",
   "execution_count": 37,
   "metadata": {},
   "outputs": [
    {
     "data": {
      "text/plain": [
       "[('fake news', 96),\n",
       " ('mini mike', 42),\n",
       " ('white house', 40),\n",
       " ('united states', 35),\n",
       " ('total endorsement', 32),\n",
       " ('great state', 31),\n",
       " ('great job', 30),\n",
       " ('complete total', 29),\n",
       " ('new york', 29),\n",
       " ('kag2020 https', 28),\n",
       " ('complete total endorsement', 28),\n",
       " ('endorsement https', 23),\n",
       " ('impeachment hoax', 22),\n",
       " ('news conference', 22),\n",
       " ('lamestream media', 21),\n",
       " ('america great', 21),\n",
       " ('total endorsement https', 21),\n",
       " ('thank https', 20),\n",
       " ('military vets', 20),\n",
       " ('federal government', 20)]"
      ]
     },
     "execution_count": 37,
     "metadata": {},
     "output_type": "execute_result"
    }
   ],
   "source": [
    "#most common tweets of Trump\n",
    "summaries = \"\".join(trump_df['text'])\n",
    "ngrams_summaries = vect.build_analyzer()(summaries)\n",
    "Counter(ngrams_summaries).most_common(20)"
   ]
  },
  {
   "cell_type": "code",
   "execution_count": 38,
   "metadata": {},
   "outputs": [
    {
     "data": {
      "text/plain": [
       "[('donald trump', 57),\n",
       " ('vote https', 52),\n",
       " ('health care', 52),\n",
       " ('https ttgeqxnqym', 51),\n",
       " ('hillary https', 49),\n",
       " ('make sure', 48),\n",
       " ('https 3tkj4h68kz', 44),\n",
       " ('human rights', 38),\n",
       " ('3tkj4h68kz https', 32),\n",
       " ('https 3tkj4h68kz https', 32),\n",
       " ('today https', 31),\n",
       " ('ttgeqxnqym https', 27),\n",
       " ('https ttgeqxnqym https', 27),\n",
       " ('202 224', 26),\n",
       " ('young people', 25),\n",
       " ('new york', 25),\n",
       " ('potus https', 25),\n",
       " ('https jfd3cxld1s', 23),\n",
       " ('join https', 22),\n",
       " ('onwardtogether partner', 22)]"
      ]
     },
     "execution_count": 38,
     "metadata": {},
     "output_type": "execute_result"
    }
   ],
   "source": [
    "#most common tweets of Hillary\n",
    "summaries = \"\".join(hillary_df['text'])\n",
    "ngrams_summaries = vect.build_analyzer()(summaries)\n",
    "Counter(ngrams_summaries).most_common(20)"
   ]
  }
 ],
 "metadata": {
  "kernelspec": {
   "display_name": "Python 3",
   "language": "python",
   "name": "python3"
  },
  "language_info": {
   "codemirror_mode": {
    "name": "ipython",
    "version": 3
   },
   "file_extension": ".py",
   "mimetype": "text/x-python",
   "name": "python",
   "nbconvert_exporter": "python",
   "pygments_lexer": "ipython3",
   "version": "3.8.1"
  }
 },
 "nbformat": 4,
 "nbformat_minor": 4
}
